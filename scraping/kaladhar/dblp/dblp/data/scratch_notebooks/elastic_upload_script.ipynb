{
 "cells": [
  {
   "cell_type": "code",
   "execution_count": 5,
   "metadata": {},
   "outputs": [],
   "source": [
    "import json"
   ]
  },
  {
   "cell_type": "code",
   "execution_count": 2,
   "metadata": {},
   "outputs": [],
   "source": [
    "with open('../dblp_final_JSON.json', 'r') as file:\n",
    "    data = json.load(file)"
   ]
  },
  {
   "cell_type": "code",
   "execution_count": 3,
   "metadata": {},
   "outputs": [],
   "source": [
    "output_string = \"\""
   ]
  },
  {
   "cell_type": "code",
   "execution_count": 6,
   "metadata": {},
   "outputs": [
    {
     "data": {
      "text/plain": [
       "{'corpus': {'DBLP': 'https://dblp.uni-trier.de/pers/hd/s/Shrivastava:Abhinav',\n",
       "  'Google Scholar': 'https://scholar.google.com/citations?user=mIF9BowAAAAJ&hl=en&oi=ao',\n",
       "  'domain': 'vision',\n",
       "  'home': 'http://abhinavsh.info'},\n",
       " 'courses': [{'courseId': 'CMSC828I',\n",
       "   'courseLevel': 'Graduate',\n",
       "   'courseMeta': 'Prerequisite: CMSC422, CMSC426, or equivalent; or permission of instructor.',\n",
       "   'courseTitle': 'Advanced Topics in Information Processing; Advanced Techniques in Visual Learning and Recognition',\n",
       "   'gradingMethod': 'Regular, Audit',\n",
       "   'numberOfUnits': '3',\n",
       "   'semester': 'Fall'},\n",
       "  {'courseId': 'ENSE799',\n",
       "   'courseLevel': 'Graduate',\n",
       "   'courseMeta': 'Contact Systems Engineering Office, Rm. 2172 A. V. Williams Bldg. to make arrangements.',\n",
       "   'courseTitle': 'Systems Engineering Thesis; Masters Thesis Research',\n",
       "   'gradingMethod': 'Regular',\n",
       "   'numberOfUnits': '1',\n",
       "   'semester': 'Summer'},\n",
       "  {'courseId': 'CMSC498L',\n",
       "   'courseLevel': 'Undergraduate',\n",
       "   'courseMeta': \"Prerequisite: Minimum grade of C- in CMSC330 and CMSC351; and 1 course with a minimum grade of C- from (MATH240, MATH461); and permission of CMNS-Computer Science department. Or must be in (Computer Science (Doctoral), ComputerScience (Master's) program.\",\n",
       "   'courseTitle': 'Selected Topics in Computer Science; Introduction to Deep Learning',\n",
       "   'gradingMethod': 'Regular',\n",
       "   'numberOfUnits': '3',\n",
       "   'semester': 'Spring'}],\n",
       " 'no_of_papers': '26',\n",
       " 'papers': [{'co_authors': ['Ahmed Taha',\n",
       "    'Yi-Ting Chen',\n",
       "    'Teruhisa Misu',\n",
       "    'Abhinav Shrivastava',\n",
       "    'Larry Davis 0001'],\n",
       "   'title': 'Unsupervised Data Uncertainty Learning in Visual Retrieval Systems.',\n",
       "   'url': 'http://arxiv.org/abs/1902.02586'},\n",
       "  {'co_authors': ['Chen Sun',\n",
       "    'Abhinav Shrivastava',\n",
       "    'Carl Vondrick',\n",
       "    'Kevin Murphy 0002',\n",
       "    'Rahul Sukthankar',\n",
       "    'Cordelia Schmid'],\n",
       "   'title': 'Actor-Centric Relation Network.',\n",
       "   'url': 'https://doi.org/10.1007/978-3-030-01252-6_20'},\n",
       "  {'co_authors': ['Carl Vondrick',\n",
       "    'Abhinav Shrivastava',\n",
       "    'Alireza Fathi',\n",
       "    'Sergio Guadarrama',\n",
       "    'Kevin Murphy 0002'],\n",
       "   'title': 'Tracking Emerges by Colorizing Videos.',\n",
       "   'url': 'https://doi.org/10.1007/978-3-030-01261-8_24'},\n",
       "  {'co_authors': ['Carl Vondrick',\n",
       "    'Abhinav Shrivastava',\n",
       "    'Alireza Fathi',\n",
       "    'Sergio Guadarrama',\n",
       "    'Kevin Murphy 0002'],\n",
       "   'title': 'Tracking Emerges by Colorizing Videos.',\n",
       "   'url': 'http://arxiv.org/abs/1806.09594'},\n",
       "  {'co_authors': ['Chen Sun',\n",
       "    'Abhinav Shrivastava',\n",
       "    'Carl Vondrick',\n",
       "    'Kevin Murphy 0002',\n",
       "    'Rahul Sukthankar',\n",
       "    'Cordelia Schmid'],\n",
       "   'title': 'Actor-Centric Relation Network.',\n",
       "   'url': 'http://arxiv.org/abs/1807.10982'},\n",
       "  {'co_authors': ['Xiaolong Wang 0004',\n",
       "    'Abhinav Shrivastava',\n",
       "    'Abhinav Gupta 0001'],\n",
       "   'title': 'A-Fast-RCNN: Hard Positive Generation via Adversary for Object Detection.',\n",
       "   'url': 'https://doi.org/10.1109/CVPR.2017.324'},\n",
       "  {'co_authors': ['Chen Sun',\n",
       "    'Abhinav Shrivastava',\n",
       "    'Saurabh Singh',\n",
       "    'Abhinav Gupta 0001'],\n",
       "   'title': 'Revisiting Unreasonable Effectiveness of Data in Deep Learning Era.',\n",
       "   'url': 'https://doi.org/10.1109/ICCV.2017.97'},\n",
       "  {'co_authors': ['Xiaolong Wang 0004',\n",
       "    'Abhinav Shrivastava',\n",
       "    'Abhinav Gupta 0001'],\n",
       "   'title': 'A-Fast-RCNN: Hard Positive Generation via Adversary for Object Detection.',\n",
       "   'url': 'http://arxiv.org/abs/1704.03414'},\n",
       "  {'co_authors': ['Chen Sun',\n",
       "    'Abhinav Shrivastava',\n",
       "    'Saurabh Singh',\n",
       "    'Abhinav Gupta 0001'],\n",
       "   'title': 'Revisiting Unreasonable Effectiveness of Data in Deep Learning Era.',\n",
       "   'url': 'http://arxiv.org/abs/1707.02968'},\n",
       "  {'co_authors': ['Abhinav Shrivastava',\n",
       "    'Abhinav Gupta 0001',\n",
       "    'Ross B. Girshick'],\n",
       "   'title': 'Training Region-Based Object Detectors with Online Hard Example Mining.',\n",
       "   'url': 'https://doi.org/10.1109/CVPR.2016.89'},\n",
       "  {'co_authors': ['Ishan Misra',\n",
       "    'Abhinav Shrivastava',\n",
       "    'Abhinav Gupta 0001',\n",
       "    'Martial Hebert'],\n",
       "   'title': 'Cross-Stitch Networks for Multi-task Learning.',\n",
       "   'url': 'https://doi.org/10.1109/CVPR.2016.433'},\n",
       "  {'co_authors': ['Abhinav Shrivastava', 'Abhinav Gupta 0001'],\n",
       "   'title': 'Contextual Priming and Feedback for Faster R-CNN.',\n",
       "   'url': 'https://doi.org/10.1007/978-3-319-46448-0_20'},\n",
       "  {'co_authors': ['Ishan Misra',\n",
       "    'Abhinav Shrivastava',\n",
       "    'Abhinav Gupta 0001',\n",
       "    'Martial Hebert'],\n",
       "   'title': 'Cross-stitch Networks for Multi-task Learning.',\n",
       "   'url': 'http://arxiv.org/abs/1604.03539'},\n",
       "  {'co_authors': ['Abhinav Shrivastava',\n",
       "    'Abhinav Gupta 0001',\n",
       "    'Ross B. Girshick'],\n",
       "   'title': 'Training Region-based Object Detectors with Online Hard Example Mining.',\n",
       "   'url': 'http://arxiv.org/abs/1604.03540'},\n",
       "  {'co_authors': ['Abhinav Shrivastava',\n",
       "    'Rahul Sukthankar',\n",
       "    'Jitendra Malik',\n",
       "    'Abhinav Gupta 0001'],\n",
       "   'title': 'Beyond Skip Connections: Top-Down Modulation for Object Detection.',\n",
       "   'url': 'http://arxiv.org/abs/1612.06851'},\n",
       "  {'co_authors': ['Elissa Michele Aminoff',\n",
       "    'Mariya Toneva',\n",
       "    'Abhinav Shrivastava',\n",
       "    'Xinlei Chen',\n",
       "    'Ishan Misra',\n",
       "    'Abhinav Gupta 0001',\n",
       "    'Michael J. Tarr'],\n",
       "   'title': 'Applying artificial vision models to human scene understanding.',\n",
       "   'url': 'https://doi.org/10.3389/fncom.2015.00008'},\n",
       "  {'co_authors': ['Ishan Misra', 'Abhinav Shrivastava', 'Martial Hebert'],\n",
       "   'title': 'Watch and learn: Semi-supervised learning of object detectors from videos.',\n",
       "   'url': 'https://doi.org/10.1109/CVPR.2015.7298982'},\n",
       "  {'co_authors': ['Aayush Bansal',\n",
       "    'Abhinav Shrivastava',\n",
       "    'Carl Doersch',\n",
       "    'Abhinav Gupta 0001'],\n",
       "   'title': 'Mid-level Elements for Object Detection.',\n",
       "   'url': 'http://arxiv.org/abs/1504.07284'},\n",
       "  {'co_authors': ['Ishan Misra', 'Abhinav Shrivastava', 'Martial Hebert'],\n",
       "   'title': 'Watch and Learn: Semi-Supervised Learning of Object Detectors from Videos.',\n",
       "   'url': 'http://arxiv.org/abs/1505.05769'},\n",
       "  {'co_authors': ['Xinlei Chen', 'Abhinav Shrivastava', 'Abhinav Gupta 0001'],\n",
       "   'title': 'Enriching Visual Knowledge Bases via Object Discovery and Segmentation.',\n",
       "   'url': 'https://doi.org/10.1109/CVPR.2014.261'},\n",
       "  {'co_authors': ['Ishan Misra', 'Abhinav Shrivastava', 'Martial Hebert'],\n",
       "   'title': 'Data-driven exemplar model selection.',\n",
       "   'url': 'https://doi.org/10.1109/WACV.2014.6836080'},\n",
       "  {'co_authors': ['Xinlei Chen', 'Abhinav Shrivastava', 'Abhinav Gupta 0001'],\n",
       "   'title': 'NEIL: Extracting Visual Knowledge from Web Data.',\n",
       "   'url': 'https://doi.org/10.1109/ICCV.2013.178'},\n",
       "  {'co_authors': ['Abhinav Shrivastava', 'Abhinav Gupta 0001'],\n",
       "   'title': 'Building Part-Based Object Detectors via 3D Geometry.',\n",
       "   'url': 'https://doi.org/10.1109/ICCV.2013.219'},\n",
       "  {'co_authors': ['Abhinav Shrivastava',\n",
       "    'Saurabh Singh',\n",
       "    'Abhinav Gupta 0001'],\n",
       "   'title': 'Constrained Semi-Supervised Learning Using Attributes and Comparative Attributes.',\n",
       "   'url': 'https://doi.org/10.1007/978-3-642-33712-3_27'},\n",
       "  {'co_authors': ['Tomasz Malisiewicz',\n",
       "    'Abhinav Shrivastava',\n",
       "    'Abhinav Gupta 0001',\n",
       "    'Alexei A. Efros'],\n",
       "   'title': 'Exemplar-SVMs for Visual Ob ject Detection, Label Transfer and Image Retrieval.',\n",
       "   'url': 'http://icml.cc/2012/papers/946.pdf'},\n",
       "  {'co_authors': ['Abhinav Shrivastava',\n",
       "    'Tomasz Malisiewicz',\n",
       "    'Abhinav Gupta 0001',\n",
       "    'Alexei A. Efros'],\n",
       "   'title': 'Data-driven visual similarity for cross-domain image matching.',\n",
       "   'url': 'https://doi.org/10.1145/2070781.2024188'}],\n",
       " 'person': 'Abhinav Shrivastava',\n",
       " 'univ_name': 'Maryland'}"
      ]
     },
     "execution_count": 6,
     "metadata": {},
     "output_type": "execute_result"
    }
   ],
   "source": [
    "data[0]"
   ]
  },
  {
   "cell_type": "code",
   "execution_count": 7,
   "metadata": {
    "scrolled": true
   },
   "outputs": [
    {
     "data": {
      "text/plain": [
       "'{\"corpus\": {\"DBLP\": \"https://dblp.uni-trier.de/pers/hd/s/Shrivastava:Abhinav\", \"Google Scholar\": \"https://scholar.google.com/citations?user=mIF9BowAAAAJ&hl=en&oi=ao\", \"domain\": \"vision\", \"home\": \"http://abhinavsh.info\"}, \"courses\": [{\"courseId\": \"CMSC828I\", \"courseLevel\": \"Graduate\", \"courseMeta\": \"Prerequisite: CMSC422, CMSC426, or equivalent; or permission of instructor.\", \"courseTitle\": \"Advanced Topics in Information Processing; Advanced Techniques in Visual Learning and Recognition\", \"gradingMethod\": \"Regular, Audit\", \"numberOfUnits\": \"3\", \"semester\": \"Fall\"}, {\"courseId\": \"ENSE799\", \"courseLevel\": \"Graduate\", \"courseMeta\": \"Contact Systems Engineering Office, Rm. 2172 A. V. Williams Bldg. to make arrangements.\", \"courseTitle\": \"Systems Engineering Thesis; Masters Thesis Research\", \"gradingMethod\": \"Regular\", \"numberOfUnits\": \"1\", \"semester\": \"Summer\"}, {\"courseId\": \"CMSC498L\", \"courseLevel\": \"Undergraduate\", \"courseMeta\": \"Prerequisite: Minimum grade of C- in CMSC330 and CMSC351; and 1 course with a minimum grade of C- from (MATH240, MATH461); and permission of CMNS-Computer Science department. Or must be in (Computer Science (Doctoral), ComputerScience (Master\\'s) program.\", \"courseTitle\": \"Selected Topics in Computer Science; Introduction to Deep Learning\", \"gradingMethod\": \"Regular\", \"numberOfUnits\": \"3\", \"semester\": \"Spring\"}], \"no_of_papers\": \"26\", \"papers\": [{\"co_authors\": [\"Ahmed Taha\", \"Yi-Ting Chen\", \"Teruhisa Misu\", \"Abhinav Shrivastava\", \"Larry Davis 0001\"], \"title\": \"Unsupervised Data Uncertainty Learning in Visual Retrieval Systems.\", \"url\": \"http://arxiv.org/abs/1902.02586\"}, {\"co_authors\": [\"Chen Sun\", \"Abhinav Shrivastava\", \"Carl Vondrick\", \"Kevin Murphy 0002\", \"Rahul Sukthankar\", \"Cordelia Schmid\"], \"title\": \"Actor-Centric Relation Network.\", \"url\": \"https://doi.org/10.1007/978-3-030-01252-6_20\"}, {\"co_authors\": [\"Carl Vondrick\", \"Abhinav Shrivastava\", \"Alireza Fathi\", \"Sergio Guadarrama\", \"Kevin Murphy 0002\"], \"title\": \"Tracking Emerges by Colorizing Videos.\", \"url\": \"https://doi.org/10.1007/978-3-030-01261-8_24\"}, {\"co_authors\": [\"Carl Vondrick\", \"Abhinav Shrivastava\", \"Alireza Fathi\", \"Sergio Guadarrama\", \"Kevin Murphy 0002\"], \"title\": \"Tracking Emerges by Colorizing Videos.\", \"url\": \"http://arxiv.org/abs/1806.09594\"}, {\"co_authors\": [\"Chen Sun\", \"Abhinav Shrivastava\", \"Carl Vondrick\", \"Kevin Murphy 0002\", \"Rahul Sukthankar\", \"Cordelia Schmid\"], \"title\": \"Actor-Centric Relation Network.\", \"url\": \"http://arxiv.org/abs/1807.10982\"}, {\"co_authors\": [\"Xiaolong Wang 0004\", \"Abhinav Shrivastava\", \"Abhinav Gupta 0001\"], \"title\": \"A-Fast-RCNN: Hard Positive Generation via Adversary for Object Detection.\", \"url\": \"https://doi.org/10.1109/CVPR.2017.324\"}, {\"co_authors\": [\"Chen Sun\", \"Abhinav Shrivastava\", \"Saurabh Singh\", \"Abhinav Gupta 0001\"], \"title\": \"Revisiting Unreasonable Effectiveness of Data in Deep Learning Era.\", \"url\": \"https://doi.org/10.1109/ICCV.2017.97\"}, {\"co_authors\": [\"Xiaolong Wang 0004\", \"Abhinav Shrivastava\", \"Abhinav Gupta 0001\"], \"title\": \"A-Fast-RCNN: Hard Positive Generation via Adversary for Object Detection.\", \"url\": \"http://arxiv.org/abs/1704.03414\"}, {\"co_authors\": [\"Chen Sun\", \"Abhinav Shrivastava\", \"Saurabh Singh\", \"Abhinav Gupta 0001\"], \"title\": \"Revisiting Unreasonable Effectiveness of Data in Deep Learning Era.\", \"url\": \"http://arxiv.org/abs/1707.02968\"}, {\"co_authors\": [\"Abhinav Shrivastava\", \"Abhinav Gupta 0001\", \"Ross B. Girshick\"], \"title\": \"Training Region-Based Object Detectors with Online Hard Example Mining.\", \"url\": \"https://doi.org/10.1109/CVPR.2016.89\"}, {\"co_authors\": [\"Ishan Misra\", \"Abhinav Shrivastava\", \"Abhinav Gupta 0001\", \"Martial Hebert\"], \"title\": \"Cross-Stitch Networks for Multi-task Learning.\", \"url\": \"https://doi.org/10.1109/CVPR.2016.433\"}, {\"co_authors\": [\"Abhinav Shrivastava\", \"Abhinav Gupta 0001\"], \"title\": \"Contextual Priming and Feedback for Faster R-CNN.\", \"url\": \"https://doi.org/10.1007/978-3-319-46448-0_20\"}, {\"co_authors\": [\"Ishan Misra\", \"Abhinav Shrivastava\", \"Abhinav Gupta 0001\", \"Martial Hebert\"], \"title\": \"Cross-stitch Networks for Multi-task Learning.\", \"url\": \"http://arxiv.org/abs/1604.03539\"}, {\"co_authors\": [\"Abhinav Shrivastava\", \"Abhinav Gupta 0001\", \"Ross B. Girshick\"], \"title\": \"Training Region-based Object Detectors with Online Hard Example Mining.\", \"url\": \"http://arxiv.org/abs/1604.03540\"}, {\"co_authors\": [\"Abhinav Shrivastava\", \"Rahul Sukthankar\", \"Jitendra Malik\", \"Abhinav Gupta 0001\"], \"title\": \"Beyond Skip Connections: Top-Down Modulation for Object Detection.\", \"url\": \"http://arxiv.org/abs/1612.06851\"}, {\"co_authors\": [\"Elissa Michele Aminoff\", \"Mariya Toneva\", \"Abhinav Shrivastava\", \"Xinlei Chen\", \"Ishan Misra\", \"Abhinav Gupta 0001\", \"Michael J. Tarr\"], \"title\": \"Applying artificial vision models to human scene understanding.\", \"url\": \"https://doi.org/10.3389/fncom.2015.00008\"}, {\"co_authors\": [\"Ishan Misra\", \"Abhinav Shrivastava\", \"Martial Hebert\"], \"title\": \"Watch and learn: Semi-supervised learning of object detectors from videos.\", \"url\": \"https://doi.org/10.1109/CVPR.2015.7298982\"}, {\"co_authors\": [\"Aayush Bansal\", \"Abhinav Shrivastava\", \"Carl Doersch\", \"Abhinav Gupta 0001\"], \"title\": \"Mid-level Elements for Object Detection.\", \"url\": \"http://arxiv.org/abs/1504.07284\"}, {\"co_authors\": [\"Ishan Misra\", \"Abhinav Shrivastava\", \"Martial Hebert\"], \"title\": \"Watch and Learn: Semi-Supervised Learning of Object Detectors from Videos.\", \"url\": \"http://arxiv.org/abs/1505.05769\"}, {\"co_authors\": [\"Xinlei Chen\", \"Abhinav Shrivastava\", \"Abhinav Gupta 0001\"], \"title\": \"Enriching Visual Knowledge Bases via Object Discovery and Segmentation.\", \"url\": \"https://doi.org/10.1109/CVPR.2014.261\"}, {\"co_authors\": [\"Ishan Misra\", \"Abhinav Shrivastava\", \"Martial Hebert\"], \"title\": \"Data-driven exemplar model selection.\", \"url\": \"https://doi.org/10.1109/WACV.2014.6836080\"}, {\"co_authors\": [\"Xinlei Chen\", \"Abhinav Shrivastava\", \"Abhinav Gupta 0001\"], \"title\": \"NEIL: Extracting Visual Knowledge from Web Data.\", \"url\": \"https://doi.org/10.1109/ICCV.2013.178\"}, {\"co_authors\": [\"Abhinav Shrivastava\", \"Abhinav Gupta 0001\"], \"title\": \"Building Part-Based Object Detectors via 3D Geometry.\", \"url\": \"https://doi.org/10.1109/ICCV.2013.219\"}, {\"co_authors\": [\"Abhinav Shrivastava\", \"Saurabh Singh\", \"Abhinav Gupta 0001\"], \"title\": \"Constrained Semi-Supervised Learning Using Attributes and Comparative Attributes.\", \"url\": \"https://doi.org/10.1007/978-3-642-33712-3_27\"}, {\"co_authors\": [\"Tomasz Malisiewicz\", \"Abhinav Shrivastava\", \"Abhinav Gupta 0001\", \"Alexei A. Efros\"], \"title\": \"Exemplar-SVMs for Visual Ob ject Detection, Label Transfer and Image Retrieval.\", \"url\": \"http://icml.cc/2012/papers/946.pdf\"}, {\"co_authors\": [\"Abhinav Shrivastava\", \"Tomasz Malisiewicz\", \"Abhinav Gupta 0001\", \"Alexei A. Efros\"], \"title\": \"Data-driven visual similarity for cross-domain image matching.\", \"url\": \"https://doi.org/10.1145/2070781.2024188\"}], \"person\": \"Abhinav Shrivastava\", \"univ_name\": \"Maryland\"}'"
      ]
     },
     "execution_count": 7,
     "metadata": {},
     "output_type": "execute_result"
    }
   ],
   "source": [
    "json.dumps(data[0])"
   ]
  },
  {
   "cell_type": "code",
   "execution_count": 8,
   "metadata": {},
   "outputs": [],
   "source": [
    "for index, d in enumerate(data):\n",
    "    output_string += '{{\"index\":{{\"_id\":\"{}\"}}}}\\n'.format(index)\n",
    "    output_string += json.dumps(d)\n",
    "    output_string += '\\n'"
   ]
  },
  {
   "cell_type": "code",
   "execution_count": 10,
   "metadata": {},
   "outputs": [
    {
     "data": {
      "text/plain": [
       "'{\"index\":{\"_id\":\"0\"}}\\n{\"corpus\": {\"DBLP\": \"https:/'"
      ]
     },
     "execution_count": 10,
     "metadata": {},
     "output_type": "execute_result"
    }
   ],
   "source": [
    "output_string[:50]"
   ]
  },
  {
   "cell_type": "code",
   "execution_count": 11,
   "metadata": {},
   "outputs": [],
   "source": [
    "with open(\"../dblp_elastic_upload.json\", \"w\") as file:\n",
    "    file.write(output_string)"
   ]
  },
  {
   "cell_type": "code",
   "execution_count": null,
   "metadata": {},
   "outputs": [],
   "source": []
  }
 ],
 "metadata": {
  "kernelspec": {
   "display_name": "Python 3",
   "language": "python",
   "name": "python3"
  },
  "language_info": {
   "codemirror_mode": {
    "name": "ipython",
    "version": 3
   },
   "file_extension": ".py",
   "mimetype": "text/x-python",
   "name": "python",
   "nbconvert_exporter": "python",
   "pygments_lexer": "ipython3",
   "version": "3.6.7"
  }
 },
 "nbformat": 4,
 "nbformat_minor": 2
}
